{
  "nbformat": 4,
  "nbformat_minor": 0,
  "metadata": {
    "colab": {
      "name": "Esun_QuantTeam_Lessons.ipynb",
      "provenance": [],
      "toc_visible": true,
      "authorship_tag": "ABX9TyMLeFBi8QbtaR0GcKAPH/Xe",
      "include_colab_link": true
    },
    "kernelspec": {
      "name": "python3",
      "display_name": "Python 3"
    }
  },
  "cells": [
    {
      "cell_type": "markdown",
      "metadata": {
        "id": "view-in-github",
        "colab_type": "text"
      },
      "source": [
        "<a href=\"https://colab.research.google.com/github/x87170/ES/blob/master/Esun_QuantTeam_Lessons.ipynb\" target=\"_parent\"><img src=\"https://colab.research.google.com/assets/colab-badge.svg\" alt=\"Open In Colab\"/></a>"
      ]
    },
    {
      "cell_type": "markdown",
      "metadata": {
        "id": "Q29ACVVHaCm0",
        "colab_type": "text"
      },
      "source": [
        "# **Python Course for Esun Quant Team July 10, 2020**\n",
        "### **Agenda**\n",
        "\n",
        "\n",
        "- Chapter 1 - 基本用法\n",
        "\n",
        "- Chapter 2 - Pandas (待新增Series)"
      ]
    },
    {
      "cell_type": "markdown",
      "metadata": {
        "id": "Y95H_ClJfpvu",
        "colab_type": "text"
      },
      "source": [
        "## **Chapter 1 - 基本用法**"
      ]
    },
    {
      "cell_type": "markdown",
      "metadata": {
        "id": "CZTBoiuicsIa",
        "colab_type": "text"
      },
      "source": [
        "### **基礎用法**\n",
        "\n",
        "##### 與一般的程式語言相同，都是以\" = \" 來給賦予變數數值\n",
        "\n",
        "\n",
        "\n",
        "```\n",
        "a = 3\n",
        "\n",
        "a = \"Apple\"\n",
        "```\n",
        "##### 當變數的屬性為數值時可以進行基本運算"
      ]
    },
    {
      "cell_type": "code",
      "metadata": {
        "id": "bbpl8qTRdCNh",
        "colab_type": "code",
        "colab": {
          "base_uri": "https://localhost:8080/",
          "height": 119
        },
        "outputId": "fd33ba8b-c625-4abb-f45a-0fa90a90b6d2"
      },
      "source": [
        "a,b = 3,2\n",
        "print(\"加法 a+b = \",a+b)\n",
        "print(\"減法 a-b =\",a-b)\n",
        "print(\"乘法 a*b =\",a*b)\n",
        "print(\"除法 a/b =\",a/b)\n",
        "print(\"次方 a**b =\",a**b)\n",
        "print(\"除法，取整數 a//b =\",a//b)\n"
      ],
      "execution_count": null,
      "outputs": [
        {
          "output_type": "stream",
          "text": [
            "加法 a+b =  5\n",
            "減法 a-b = 1\n",
            "乘法 a*b = 6\n",
            "除法 a/b = 1.5\n",
            "次方 a**b = 9\n",
            "除法，取整數 a//b = 1\n"
          ],
          "name": "stdout"
        }
      ]
    },
    {
      "cell_type": "markdown",
      "metadata": {
        "id": "cRRpXj36dCYV",
        "colab_type": "text"
      },
      "source": [
        "### **list**\n",
        "##### 而除了單一的數值外，我們最常以 **list** [  ]做為我們的資料結構\n",
        "\n",
        "```\n",
        "# Below are lists\n",
        "b = [1,2,3]\n",
        "C = [1,\"P\", [3]]  \n",
        "```\n",
        "list當中各個項目以\",\"分開，並且可以容納各種型態的資料，如C第三個項目為另一個list\n"
      ]
    },
    {
      "cell_type": "markdown",
      "metadata": {
        "id": "fM_Q87lqYAXw",
        "colab_type": "text"
      },
      "source": [
        "### **append**\n",
        "##### 當資料型態為list時我們可以使用append增加後面的項目，常用的方法如：\n",
        "```\n",
        "#先建立一個空的list\n",
        "list_A = [] \n",
        "\n",
        "#將迴圈中運算出的結果，依次存入空的list中\n",
        "for i in range(3):\n",
        "  list_A.append(i)\n",
        "\n",
        "print(list_A)\n",
        "```\n",
        "這樣就可以將整個運算流程都存起來(e.g.像是蒙地卡羅每次模擬的狀況)\n"
      ]
    },
    {
      "cell_type": "code",
      "metadata": {
        "id": "pbiyJ3xjaFjd",
        "colab_type": "code",
        "colab": {
          "base_uri": "https://localhost:8080/",
          "height": 34
        },
        "outputId": "4086a42e-3953-47e6-fb2d-d18483c92f6d"
      },
      "source": [
        "list_A = [] \n",
        "\n",
        "for i in range(3):\n",
        "  list_A.append(i)\n",
        "\n",
        "print(list_A)"
      ],
      "execution_count": null,
      "outputs": [
        {
          "output_type": "stream",
          "text": [
            "[0, 1, 2]\n"
          ],
          "name": "stdout"
        }
      ]
    },
    {
      "cell_type": "markdown",
      "metadata": {
        "id": "gGZDdpnebLs-",
        "colab_type": "text"
      },
      "source": [
        "### **list的特殊運算**\n",
        "當list進行乘法時並不會進行數值運算，而是將該list重複\n",
        "```\n",
        "[1,2,3] * 2 -> [1,2,3,1,2,3]\n",
        "```\n",
        "而進行加法時會將後者併入前者中\n",
        "```\n",
        "[1,2,3] + [4,5,6] = [1,2,3,4,5,6]\n",
        "```\n"
      ]
    },
    {
      "cell_type": "code",
      "metadata": {
        "id": "MkbBdDdmbImI",
        "colab_type": "code",
        "colab": {
          "base_uri": "https://localhost:8080/",
          "height": 68
        },
        "outputId": "db1a003a-f748-4a9e-91e9-ad4676c7cbd1"
      },
      "source": [
        "a= [1, 2, 3]*2\n",
        "print(a)\n",
        "\n",
        "b = [\"Apple\",2,3]\n",
        "print(b)\n",
        "\n",
        "c = a+b\n",
        "print(c)"
      ],
      "execution_count": null,
      "outputs": [
        {
          "output_type": "stream",
          "text": [
            "[1, 2, 3, 1, 2, 3]\n",
            "['Apple', 2, 3]\n",
            "[1, 2, 3, 1, 2, 3, 'Apple', 2, 3]\n"
          ],
          "name": "stdout"
        }
      ]
    },
    {
      "cell_type": "markdown",
      "metadata": {
        "id": "YwSTsQ1k4rmh",
        "colab_type": "text"
      },
      "source": [
        "### **資料選取,切片**\n",
        "\n",
        "#### 當要挑選list中資料時，會以List[ ]進行選取，須留意第一項的編號為0，也可以使用[start:end]選取範圍，但並未含括到end的項目\n",
        "\n",
        "\n",
        "\n",
        "\n",
        "```\n",
        "e.g.\n",
        "A = [1,3,5,7,9]\n",
        "A[0:3] ->選取第0到第2項\n",
        "```\n",
        "\n"
      ]
    },
    {
      "cell_type": "code",
      "metadata": {
        "id": "Zyh24s955V9F",
        "colab_type": "code",
        "colab": {
          "base_uri": "https://localhost:8080/",
          "height": 34
        },
        "outputId": "8d023bc6-e7ed-40f7-cb88-3501406afea8"
      },
      "source": [
        "A = [1,3,5,7,9]\n",
        "print(A[0:3])"
      ],
      "execution_count": null,
      "outputs": [
        {
          "output_type": "stream",
          "text": [
            "[1, 3, 5]\n"
          ],
          "name": "stdout"
        }
      ]
    },
    {
      "cell_type": "markdown",
      "metadata": {
        "id": "uSusKd-j6Now",
        "colab_type": "text"
      },
      "source": [
        "### **集合運算**\n",
        "當比較list中項目時可以用set()進行集合運算\n",
        "```\n",
        "a = [1,2,2,5,6,7]\n",
        "set(a) = {1,2,5,6,7} #會把重複項目刪除\n",
        "```\n",
        "> 聯集 set(a) | set(b)\n",
        "\n",
        "> 交集 set(a) & set(b)\n",
        "\n",
        "> 差集 set(a) - set(b)\n",
        "\n"
      ]
    },
    {
      "cell_type": "code",
      "metadata": {
        "id": "OiiaIhzH7KiL",
        "colab_type": "code",
        "colab": {
          "base_uri": "https://localhost:8080/",
          "height": 68
        },
        "outputId": "237d64cf-1c4a-45ff-8382-bf2b21c2f40c"
      },
      "source": [
        "a = [1,2,2,5,6,7]\n",
        "b = [1,7,8]\n",
        "print(set(a) | set(b))\n",
        "print(set(a) & set(b))\n",
        "print(set(a) - set(b))"
      ],
      "execution_count": null,
      "outputs": [
        {
          "output_type": "stream",
          "text": [
            "{1, 2, 5, 6, 7, 8}\n",
            "{1, 7}\n",
            "{2, 5, 6}\n"
          ],
          "name": "stdout"
        }
      ]
    },
    {
      "cell_type": "markdown",
      "metadata": {
        "id": "fIhMyd76hbVc",
        "colab_type": "text"
      },
      "source": [
        "### **For迴圈**\n",
        "\n",
        "#####Python中的`for`迴圈會以以下型式表達\n",
        "\n",
        "```\n",
        "for i in range(3):\n",
        "    print(i*3)\n",
        "```\n",
        "與其他程式語言不同處為:\n",
        "1. for 後面會以`:`代表迴圈的開始\n",
        "2. 迴圈內需執行的東西會以縮排方式進行\n",
        "\n",
        "Pyhton中有一特殊寫法，可將迴圈寫入list中：\n",
        "\n",
        "```\n",
        "A = [i for i in range(3)]\n",
        "```\n",
        "可將迴圈結果直接存成list，可以比較下列例子結果相同"
      ]
    },
    {
      "cell_type": "code",
      "metadata": {
        "id": "T7977pT6in_i",
        "colab_type": "code",
        "colab": {
          "base_uri": "https://localhost:8080/",
          "height": 51
        },
        "outputId": "eaf27304-ce85-48a9-9237-1036467e1b59"
      },
      "source": [
        "A = []\n",
        "for i in range(3):\n",
        "  A.append(i**3)\n",
        "\n",
        "\n",
        "B= [i**3 for i in range(3)]\n",
        "\n",
        "print(A)\n",
        "print(B)"
      ],
      "execution_count": null,
      "outputs": [
        {
          "output_type": "stream",
          "text": [
            "[0, 1, 8]\n",
            "[0, 1, 8]\n"
          ],
          "name": "stdout"
        }
      ]
    },
    {
      "cell_type": "markdown",
      "metadata": {
        "id": "OoUg4ICQJ0pQ",
        "colab_type": "text"
      },
      "source": [
        "## **Chapter 2 - Pandas**\n"
      ]
    },
    {
      "cell_type": "markdown",
      "metadata": {
        "id": "235bRkvlQGOn",
        "colab_type": "text"
      },
      "source": [
        "### **基本介紹**\n",
        "\n",
        "#####Pandas是Python中常用的資料結構套件，Python使用者通常有以下引用慣例:\n",
        "```\n",
        "import pandas as pd \n",
        "```\n",
        "匯入資料時通常以pandas匯入excel的csv檔案\n",
        "或是會以建立DataFrame方式輸入資料\n",
        "```\n",
        "# 讀取csv\n",
        "pd.read_csv(\"File_Name.csv\",index_col =[\"\"])\n",
        "\n",
        "#建立表格\n",
        "pd.DataFrame({\"Name\":[\"John\",\"Henry\"], \"Weight\":[65,80]})\n",
        "```"
      ]
    },
    {
      "cell_type": "code",
      "metadata": {
        "id": "f3KyaZkSSjYF",
        "colab_type": "code",
        "colab": {
          "base_uri": "https://localhost:8080/",
          "height": 68
        },
        "outputId": "3b2b9f83-2a46-4839-eac4-ef03f7e4f551"
      },
      "source": [
        "import pandas as pd\n",
        "#Henry 80公斤\n",
        "df_wt = pd.DataFrame({\"Name\":[\"John\",\"Henry\"], \"Weight\":[65,80]}) \n",
        "print(df_wt)"
      ],
      "execution_count": null,
      "outputs": [
        {
          "output_type": "stream",
          "text": [
            "    Name  Weight\n",
            "0   John      65\n",
            "1  Henry      80\n"
          ],
          "name": "stdout"
        }
      ]
    },
    {
      "cell_type": "markdown",
      "metadata": {
        "id": "W53Py39NU_EB",
        "colab_type": "text"
      },
      "source": [
        "### **DataFrame常用功能**\n",
        "\n",
        "#####  \n",
        "DataFrame幾個常見功能為\n",
        "> 以index or 欄進行挑選: df.loc[index, Col]\n",
        "\n",
        "> 新增欄 df[\"New_Col_Name\"] = [....]\n"
      ]
    },
    {
      "cell_type": "code",
      "metadata": {
        "id": "3DKLIh61c1GS",
        "colab_type": "code",
        "colab": {
          "base_uri": "https://localhost:8080/",
          "height": 493
        },
        "outputId": "8dfc87ca-6f5f-4681-b63f-3d7cba75cd93"
      },
      "source": [
        "df = pd.DataFrame({\"Fruit\":[\"Apple\", \"Bananna\", \"Orange\", \"Lemon\", \"Pear\"],\\\n",
        "                   \"Price\":[45, 23 ,12, 25, 7], \"Quantity\":[3, 4, 2, 1, 9]})\n",
        "# 設定水果為index\n",
        "df.set_index(\"Fruit\",inplace= True)\n",
        "\n",
        "print(\"----------表格----------\")\n",
        "print(df)\n",
        "\n",
        "print(\"--------取出Apple--------\")\n",
        "print(df.loc[\"Apple\",:])\n",
        "\n",
        "print(\"--------新增欄位--------\")\n",
        "df[\"Discount\"] = [0.7, 0.9, 0.8, 0.2, 1.0]\n",
        "print(df)\n",
        "\n",
        "print(\"----------運算----------\")\n",
        "df[\"Discount\"] = [0.7, 0.9, 0.8, 0.2, 1.0]\n",
        "df[\"Total_Price\"] = df[\"Price\"] * df[\"Quantity\"] * df[\"Discount\"]\n",
        "print(df)\n"
      ],
      "execution_count": null,
      "outputs": [
        {
          "output_type": "stream",
          "text": [
            "----------表格----------\n",
            "         Price  Quantity\n",
            "Fruit                   \n",
            "Apple       45         3\n",
            "Bananna     23         4\n",
            "Orange      12         2\n",
            "Lemon       25         1\n",
            "Pear         7         9\n",
            "--------取出Apple--------\n",
            "Price       45\n",
            "Quantity     3\n",
            "Name: Apple, dtype: int64\n",
            "--------新增欄位--------\n",
            "         Price  Quantity  Discount\n",
            "Fruit                             \n",
            "Apple       45         3       0.7\n",
            "Bananna     23         4       0.9\n",
            "Orange      12         2       0.8\n",
            "Lemon       25         1       0.2\n",
            "Pear         7         9       1.0\n",
            "----------運算----------\n",
            "         Price  Quantity  Discount  Total_Price\n",
            "Fruit                                          \n",
            "Apple       45         3       0.7         94.5\n",
            "Bananna     23         4       0.9         82.8\n",
            "Orange      12         2       0.8         19.2\n",
            "Lemon       25         1       0.2          5.0\n",
            "Pear         7         9       1.0         63.0\n"
          ],
          "name": "stdout"
        }
      ]
    },
    {
      "cell_type": "markdown",
      "metadata": {
        "id": "Xxhg7HIsktm8",
        "colab_type": "text"
      },
      "source": [
        "### **篩選-Filter**\n",
        "當進行資料分析時我們會透過資料篩選取出我們所需要的資料，無論是由index或是欄位中的選項\n",
        "\n",
        "考慮以下的表格:"
      ]
    },
    {
      "cell_type": "code",
      "metadata": {
        "id": "Mi9XzNBWzUNb",
        "colab_type": "code",
        "colab": {
          "base_uri": "https://localhost:8080/",
          "height": 136
        },
        "outputId": "f88c1867-47f0-468b-84cd-248be51adfa5"
      },
      "source": [
        "print(df)"
      ],
      "execution_count": null,
      "outputs": [
        {
          "output_type": "stream",
          "text": [
            "         Price  Quantity  Discount  Total_Price\n",
            "Fruit                                          \n",
            "Apple       45         3       0.7         94.5\n",
            "Bananna     23         4       0.9         82.8\n",
            "Orange      12         2       0.8         19.2\n",
            "Lemon       25         1       0.2          5.0\n",
            "Pear         7         9       1.0         63.0\n"
          ],
          "name": "stdout"
        }
      ]
    },
    {
      "cell_type": "markdown",
      "metadata": {
        "id": "3SNftsqZzgDw",
        "colab_type": "text"
      },
      "source": [
        "如果我想要篩選出價格(Price)大於20的水果\n"
      ]
    },
    {
      "cell_type": "code",
      "metadata": {
        "id": "U_6bxySKz3GO",
        "colab_type": "code",
        "colab": {
          "base_uri": "https://localhost:8080/",
          "height": 173
        },
        "outputId": "1400f665-9b87-4670-ae86-5d8106eb3645"
      },
      "source": [
        "filter_1 =  df[\"Price\"] > 20\n",
        "\n",
        "# 兩種方式皆可\n",
        "df[filter_1]\n",
        "df.loc[filter_1,:]"
      ],
      "execution_count": null,
      "outputs": [
        {
          "output_type": "execute_result",
          "data": {
            "text/html": [
              "<div>\n",
              "<style scoped>\n",
              "    .dataframe tbody tr th:only-of-type {\n",
              "        vertical-align: middle;\n",
              "    }\n",
              "\n",
              "    .dataframe tbody tr th {\n",
              "        vertical-align: top;\n",
              "    }\n",
              "\n",
              "    .dataframe thead th {\n",
              "        text-align: right;\n",
              "    }\n",
              "</style>\n",
              "<table border=\"1\" class=\"dataframe\">\n",
              "  <thead>\n",
              "    <tr style=\"text-align: right;\">\n",
              "      <th></th>\n",
              "      <th>Price</th>\n",
              "      <th>Quantity</th>\n",
              "      <th>Discount</th>\n",
              "      <th>Total_Price</th>\n",
              "    </tr>\n",
              "    <tr>\n",
              "      <th>Fruit</th>\n",
              "      <th></th>\n",
              "      <th></th>\n",
              "      <th></th>\n",
              "      <th></th>\n",
              "    </tr>\n",
              "  </thead>\n",
              "  <tbody>\n",
              "    <tr>\n",
              "      <th>Apple</th>\n",
              "      <td>45</td>\n",
              "      <td>3</td>\n",
              "      <td>0.7</td>\n",
              "      <td>94.5</td>\n",
              "    </tr>\n",
              "    <tr>\n",
              "      <th>Bananna</th>\n",
              "      <td>23</td>\n",
              "      <td>4</td>\n",
              "      <td>0.9</td>\n",
              "      <td>82.8</td>\n",
              "    </tr>\n",
              "    <tr>\n",
              "      <th>Lemon</th>\n",
              "      <td>25</td>\n",
              "      <td>1</td>\n",
              "      <td>0.2</td>\n",
              "      <td>5.0</td>\n",
              "    </tr>\n",
              "  </tbody>\n",
              "</table>\n",
              "</div>"
            ],
            "text/plain": [
              "         Price  Quantity  Discount  Total_Price\n",
              "Fruit                                          \n",
              "Apple       45         3       0.7         94.5\n",
              "Bananna     23         4       0.9         82.8\n",
              "Lemon       25         1       0.2          5.0"
            ]
          },
          "metadata": {
            "tags": []
          },
          "execution_count": 12
        }
      ]
    },
    {
      "cell_type": "markdown",
      "metadata": {
        "id": "l36qKDNi0gSe",
        "colab_type": "text"
      },
      "source": [
        "### **作業**\n",
        "\n",
        "#### 請根據`HW.csv`中的資料完成以下幾點事項\n",
        "\n",
        "1. 將資料匯入並將Date設成index `pd.read_csv(\"File_Name.csv\",index_col =[\"\"])`\n",
        "2. 請新增一欄\"Return\"，算出各天的日報酬`可用算出差分df.diff(-1)`\n",
        "3. 請找出報酬大於2%的日期\n",
        "4. 利用篩選找出2015/1/1~2019/12/31，並算出平均日報酬率`df.mean()可以取平均`"
      ]
    },
    {
      "cell_type": "markdown",
      "metadata": {
        "colab_type": "text",
        "id": "Dxn7PyjOQfpl"
      },
      "source": [
        "# **Python Course for Esun Quant Team July 27, 2020**\n",
        "### **Agenda**\n",
        "\n",
        "\n",
        "- Chapter 3 - Pandas-Group by"
      ]
    },
    {
      "cell_type": "markdown",
      "metadata": {
        "colab_type": "text",
        "id": "zP6DY77bQfpq"
      },
      "source": [
        "## **Chapter 3 - Pandas更多應用**"
      ]
    },
    {
      "cell_type": "markdown",
      "metadata": {
        "colab_type": "text",
        "id": "q2y077UcQfps"
      },
      "source": [
        "### **Group by**\n",
        "\n",
        "##### 有時會需要做資料統整的處理，這時會使用到groupby的功能\n",
        "\n",
        "```\n",
        "df.groupby(['需要作為樞紐的key']).sum()\n",
        "```\n",
        "並且看要做出何種處理(案例中用加總舉例)"
      ]
    },
    {
      "cell_type": "code",
      "metadata": {
        "id": "_6IGW0HPK9Sk",
        "colab_type": "code",
        "colab": {
          "base_uri": "https://localhost:8080/",
          "height": 235
        },
        "outputId": "db4fa9f1-e588-4506-b038-a8276957f32e"
      },
      "source": [
        "#e.g. 以下表格為各顧客總AUM資料\n",
        "#讀進資料\n",
        "df3 = pd.read_csv('CM.csv',encoding= 'BIG5')\n",
        "\n",
        "#因顧客資料無法進行運算，先刪除\n",
        "df3.drop(columns=['Cust_No'],inplace = True)\n",
        "\n",
        "#以各區域進行加總\n",
        "df_region = df3.groupby('Region').sum()\n",
        "df_region.head()"
      ],
      "execution_count": null,
      "outputs": [
        {
          "output_type": "execute_result",
          "data": {
            "text/html": [
              "<div>\n",
              "<style scoped>\n",
              "    .dataframe tbody tr th:only-of-type {\n",
              "        vertical-align: middle;\n",
              "    }\n",
              "\n",
              "    .dataframe tbody tr th {\n",
              "        vertical-align: top;\n",
              "    }\n",
              "\n",
              "    .dataframe thead th {\n",
              "        text-align: right;\n",
              "    }\n",
              "</style>\n",
              "<table border=\"1\" class=\"dataframe\">\n",
              "  <thead>\n",
              "    <tr style=\"text-align: right;\">\n",
              "      <th></th>\n",
              "      <th>AUM</th>\n",
              "    </tr>\n",
              "    <tr>\n",
              "      <th>Region</th>\n",
              "      <th></th>\n",
              "    </tr>\n",
              "  </thead>\n",
              "  <tbody>\n",
              "    <tr>\n",
              "      <th>北市三</th>\n",
              "      <td>16984502</td>\n",
              "    </tr>\n",
              "    <tr>\n",
              "      <th>北市二</th>\n",
              "      <td>14520154</td>\n",
              "    </tr>\n",
              "    <tr>\n",
              "      <th>北高雄</th>\n",
              "      <td>2323123</td>\n",
              "    </tr>\n",
              "    <tr>\n",
              "      <th>南台中</th>\n",
              "      <td>9874410</td>\n",
              "    </tr>\n",
              "    <tr>\n",
              "      <th>南高雄</th>\n",
              "      <td>874574</td>\n",
              "    </tr>\n",
              "  </tbody>\n",
              "</table>\n",
              "</div>"
            ],
            "text/plain": [
              "             AUM\n",
              "Region          \n",
              "北市三     16984502\n",
              "北市二     14520154\n",
              "北高雄      2323123\n",
              "南台中      9874410\n",
              "南高雄       874574"
            ]
          },
          "metadata": {
            "tags": []
          },
          "execution_count": 78
        }
      ]
    },
    {
      "cell_type": "code",
      "metadata": {
        "id": "8BsvKnWHVedW",
        "colab_type": "code",
        "colab": {
          "base_uri": "https://localhost:8080/",
          "height": 235
        },
        "outputId": "a108c581-ef99-47d9-e423-2df2e74c8dde"
      },
      "source": [
        "#以各區及分行進行加總\n",
        "df_div = df3.groupby(['Region','Division']).sum()\n",
        "df_div.head()"
      ],
      "execution_count": null,
      "outputs": [
        {
          "output_type": "execute_result",
          "data": {
            "text/html": [
              "<div>\n",
              "<style scoped>\n",
              "    .dataframe tbody tr th:only-of-type {\n",
              "        vertical-align: middle;\n",
              "    }\n",
              "\n",
              "    .dataframe tbody tr th {\n",
              "        vertical-align: top;\n",
              "    }\n",
              "\n",
              "    .dataframe thead th {\n",
              "        text-align: right;\n",
              "    }\n",
              "</style>\n",
              "<table border=\"1\" class=\"dataframe\">\n",
              "  <thead>\n",
              "    <tr style=\"text-align: right;\">\n",
              "      <th></th>\n",
              "      <th></th>\n",
              "      <th>AUM</th>\n",
              "    </tr>\n",
              "    <tr>\n",
              "      <th>Region</th>\n",
              "      <th>Division</th>\n",
              "      <th></th>\n",
              "    </tr>\n",
              "  </thead>\n",
              "  <tbody>\n",
              "    <tr>\n",
              "      <th rowspan=\"2\" valign=\"top\">北市三</th>\n",
              "      <th>基隆路</th>\n",
              "      <td>9000000</td>\n",
              "    </tr>\n",
              "    <tr>\n",
              "      <th>敦南</th>\n",
              "      <td>7984502</td>\n",
              "    </tr>\n",
              "    <tr>\n",
              "      <th>北市二</th>\n",
              "      <th>營業部</th>\n",
              "      <td>14520154</td>\n",
              "    </tr>\n",
              "    <tr>\n",
              "      <th>北高雄</th>\n",
              "      <th>岡山</th>\n",
              "      <td>2323123</td>\n",
              "    </tr>\n",
              "    <tr>\n",
              "      <th>南台中</th>\n",
              "      <th>員林</th>\n",
              "      <td>9874410</td>\n",
              "    </tr>\n",
              "  </tbody>\n",
              "</table>\n",
              "</div>"
            ],
            "text/plain": [
              "                      AUM\n",
              "Region Division          \n",
              "北市三    基隆路        9000000\n",
              "       敦南         7984502\n",
              "北市二    營業部       14520154\n",
              "北高雄    岡山         2323123\n",
              "南台中    員林         9874410"
            ]
          },
          "metadata": {
            "tags": []
          },
          "execution_count": 80
        }
      ]
    },
    {
      "cell_type": "code",
      "metadata": {
        "id": "16Pu0Tm1Veft",
        "colab_type": "code",
        "colab": {
          "base_uri": "https://localhost:8080/",
          "height": 235
        },
        "outputId": "d104cdab-d47c-405f-860e-27c9c30b7b02"
      },
      "source": [
        "#以各IC進行加總\n",
        "df_IC = df3.groupby('IC_Name').sum()\n",
        "df_IC.head()"
      ],
      "execution_count": null,
      "outputs": [
        {
          "output_type": "execute_result",
          "data": {
            "text/html": [
              "<div>\n",
              "<style scoped>\n",
              "    .dataframe tbody tr th:only-of-type {\n",
              "        vertical-align: middle;\n",
              "    }\n",
              "\n",
              "    .dataframe tbody tr th {\n",
              "        vertical-align: top;\n",
              "    }\n",
              "\n",
              "    .dataframe thead th {\n",
              "        text-align: right;\n",
              "    }\n",
              "</style>\n",
              "<table border=\"1\" class=\"dataframe\">\n",
              "  <thead>\n",
              "    <tr style=\"text-align: right;\">\n",
              "      <th></th>\n",
              "      <th>AUM</th>\n",
              "    </tr>\n",
              "    <tr>\n",
              "      <th>IC_Name</th>\n",
              "      <th></th>\n",
              "    </tr>\n",
              "  </thead>\n",
              "  <tbody>\n",
              "    <tr>\n",
              "      <th>Andy</th>\n",
              "      <td>6666666</td>\n",
              "    </tr>\n",
              "    <tr>\n",
              "      <th>Billy</th>\n",
              "      <td>2323123</td>\n",
              "    </tr>\n",
              "    <tr>\n",
              "      <th>Candy</th>\n",
              "      <td>5454755</td>\n",
              "    </tr>\n",
              "    <tr>\n",
              "      <th>David</th>\n",
              "      <td>9874410</td>\n",
              "    </tr>\n",
              "    <tr>\n",
              "      <th>Eric</th>\n",
              "      <td>150597391</td>\n",
              "    </tr>\n",
              "  </tbody>\n",
              "</table>\n",
              "</div>"
            ],
            "text/plain": [
              "               AUM\n",
              "IC_Name           \n",
              "Andy       6666666\n",
              "Billy      2323123\n",
              "Candy      5454755\n",
              "David      9874410\n",
              "Eric     150597391"
            ]
          },
          "metadata": {
            "tags": []
          },
          "execution_count": 81
        }
      ]
    },
    {
      "cell_type": "markdown",
      "metadata": {
        "id": "l3OyM_CWXuYB",
        "colab_type": "text"
      },
      "source": [
        "### **排序**\n",
        "\n",
        "##### 若需要排序資料,使用`df.sort_values(by=, ascending= True )`\n",
        "其中by填入要排序的欄，ascending表示是否要升冪排列(由小到大)"
      ]
    },
    {
      "cell_type": "code",
      "metadata": {
        "colab_type": "code",
        "id": "dSpHLz19QfqB",
        "colab": {
          "base_uri": "https://localhost:8080/",
          "height": 452
        },
        "outputId": "4057b540-6a4d-47c4-d7b1-ef6378cea2c0"
      },
      "source": [
        "df_IC.sort_values('AUM',ascending=False)"
      ],
      "execution_count": null,
      "outputs": [
        {
          "output_type": "execute_result",
          "data": {
            "text/html": [
              "<div>\n",
              "<style scoped>\n",
              "    .dataframe tbody tr th:only-of-type {\n",
              "        vertical-align: middle;\n",
              "    }\n",
              "\n",
              "    .dataframe tbody tr th {\n",
              "        vertical-align: top;\n",
              "    }\n",
              "\n",
              "    .dataframe thead th {\n",
              "        text-align: right;\n",
              "    }\n",
              "</style>\n",
              "<table border=\"1\" class=\"dataframe\">\n",
              "  <thead>\n",
              "    <tr style=\"text-align: right;\">\n",
              "      <th></th>\n",
              "      <th>AUM</th>\n",
              "    </tr>\n",
              "    <tr>\n",
              "      <th>IC_Name</th>\n",
              "      <th></th>\n",
              "    </tr>\n",
              "  </thead>\n",
              "  <tbody>\n",
              "    <tr>\n",
              "      <th>Eric</th>\n",
              "      <td>150597391</td>\n",
              "    </tr>\n",
              "    <tr>\n",
              "      <th>Peter</th>\n",
              "      <td>76157315</td>\n",
              "    </tr>\n",
              "    <tr>\n",
              "      <th>Thor</th>\n",
              "      <td>46427521</td>\n",
              "    </tr>\n",
              "    <tr>\n",
              "      <th>Tina</th>\n",
              "      <td>35760094</td>\n",
              "    </tr>\n",
              "    <tr>\n",
              "      <th>David</th>\n",
              "      <td>9874410</td>\n",
              "    </tr>\n",
              "    <tr>\n",
              "      <th>Andy</th>\n",
              "      <td>6666666</td>\n",
              "    </tr>\n",
              "    <tr>\n",
              "      <th>Linda</th>\n",
              "      <td>5531909</td>\n",
              "    </tr>\n",
              "    <tr>\n",
              "      <th>Candy</th>\n",
              "      <td>5454755</td>\n",
              "    </tr>\n",
              "    <tr>\n",
              "      <th>Billy</th>\n",
              "      <td>2323123</td>\n",
              "    </tr>\n",
              "    <tr>\n",
              "      <th>John</th>\n",
              "      <td>1234210</td>\n",
              "    </tr>\n",
              "    <tr>\n",
              "      <th>Henrry</th>\n",
              "      <td>987578</td>\n",
              "    </tr>\n",
              "    <tr>\n",
              "      <th>Frank</th>\n",
              "      <td>874574</td>\n",
              "    </tr>\n",
              "  </tbody>\n",
              "</table>\n",
              "</div>"
            ],
            "text/plain": [
              "               AUM\n",
              "IC_Name           \n",
              "Eric     150597391\n",
              "Peter     76157315\n",
              "Thor      46427521\n",
              "Tina      35760094\n",
              "David      9874410\n",
              "Andy       6666666\n",
              "Linda      5531909\n",
              "Candy      5454755\n",
              "Billy      2323123\n",
              "John       1234210\n",
              "Henrry      987578\n",
              "Frank       874574"
            ]
          },
          "metadata": {
            "tags": []
          },
          "execution_count": 88
        }
      ]
    },
    {
      "cell_type": "markdown",
      "metadata": {
        "colab_type": "text",
        "id": "sfZIdLtqQfqH"
      },
      "source": [
        "### **資料合併Concat, Merge**\n",
        "\n",
        "#####  \n",
        "**Concat-**\n",
        "最主要用在多個表格的串接，單純的直向or橫向併表格\n",
        "```\n",
        "pd.concat([df1,df2,df3], axis = 0) #直向\n",
        "pd.concat([df1,df2,df3], axis = 1) #橫向\n",
        "```\n",
        "\n"
      ]
    },
    {
      "cell_type": "code",
      "metadata": {
        "id": "JrMqn7yxf5xH",
        "colab_type": "code",
        "colab": {
          "base_uri": "https://localhost:8080/",
          "height": 235
        },
        "outputId": "aa85b37b-41f2-4284-9a71-8c0116694422"
      },
      "source": [
        "import pandas as pd\n",
        "df1 = pd.DataFrame({'A':[1,2,3],'B':[4,5,6]})\n",
        "df2 = pd.DataFrame({'A':[1,6,7],'D':[7,8,9]})\n",
        "pd.concat([df1,df2],axis=0) #可加入ignore_index = True/False\n"
      ],
      "execution_count": null,
      "outputs": [
        {
          "output_type": "execute_result",
          "data": {
            "text/html": [
              "<div>\n",
              "<style scoped>\n",
              "    .dataframe tbody tr th:only-of-type {\n",
              "        vertical-align: middle;\n",
              "    }\n",
              "\n",
              "    .dataframe tbody tr th {\n",
              "        vertical-align: top;\n",
              "    }\n",
              "\n",
              "    .dataframe thead th {\n",
              "        text-align: right;\n",
              "    }\n",
              "</style>\n",
              "<table border=\"1\" class=\"dataframe\">\n",
              "  <thead>\n",
              "    <tr style=\"text-align: right;\">\n",
              "      <th></th>\n",
              "      <th>A</th>\n",
              "      <th>B</th>\n",
              "      <th>D</th>\n",
              "    </tr>\n",
              "  </thead>\n",
              "  <tbody>\n",
              "    <tr>\n",
              "      <th>0</th>\n",
              "      <td>1</td>\n",
              "      <td>4.0</td>\n",
              "      <td>NaN</td>\n",
              "    </tr>\n",
              "    <tr>\n",
              "      <th>1</th>\n",
              "      <td>2</td>\n",
              "      <td>5.0</td>\n",
              "      <td>NaN</td>\n",
              "    </tr>\n",
              "    <tr>\n",
              "      <th>2</th>\n",
              "      <td>3</td>\n",
              "      <td>6.0</td>\n",
              "      <td>NaN</td>\n",
              "    </tr>\n",
              "    <tr>\n",
              "      <th>0</th>\n",
              "      <td>1</td>\n",
              "      <td>NaN</td>\n",
              "      <td>7.0</td>\n",
              "    </tr>\n",
              "    <tr>\n",
              "      <th>1</th>\n",
              "      <td>6</td>\n",
              "      <td>NaN</td>\n",
              "      <td>8.0</td>\n",
              "    </tr>\n",
              "    <tr>\n",
              "      <th>2</th>\n",
              "      <td>7</td>\n",
              "      <td>NaN</td>\n",
              "      <td>9.0</td>\n",
              "    </tr>\n",
              "  </tbody>\n",
              "</table>\n",
              "</div>"
            ],
            "text/plain": [
              "   A    B    D\n",
              "0  1  4.0  NaN\n",
              "1  2  5.0  NaN\n",
              "2  3  6.0  NaN\n",
              "0  1  NaN  7.0\n",
              "1  6  NaN  8.0\n",
              "2  7  NaN  9.0"
            ]
          },
          "metadata": {
            "tags": []
          },
          "execution_count": 111
        }
      ]
    },
    {
      "cell_type": "code",
      "metadata": {
        "id": "JNkx6_bACRKR",
        "colab_type": "code",
        "colab": {
          "base_uri": "https://localhost:8080/",
          "height": 142
        },
        "outputId": "b8c6924f-61fa-4d8b-d518-ffdac396ab55"
      },
      "source": [
        "pd.concat([df1,df2],axis=1) #可加入ignore_index = True/False"
      ],
      "execution_count": null,
      "outputs": [
        {
          "output_type": "execute_result",
          "data": {
            "text/html": [
              "<div>\n",
              "<style scoped>\n",
              "    .dataframe tbody tr th:only-of-type {\n",
              "        vertical-align: middle;\n",
              "    }\n",
              "\n",
              "    .dataframe tbody tr th {\n",
              "        vertical-align: top;\n",
              "    }\n",
              "\n",
              "    .dataframe thead th {\n",
              "        text-align: right;\n",
              "    }\n",
              "</style>\n",
              "<table border=\"1\" class=\"dataframe\">\n",
              "  <thead>\n",
              "    <tr style=\"text-align: right;\">\n",
              "      <th></th>\n",
              "      <th>A</th>\n",
              "      <th>B</th>\n",
              "      <th>A</th>\n",
              "      <th>D</th>\n",
              "    </tr>\n",
              "  </thead>\n",
              "  <tbody>\n",
              "    <tr>\n",
              "      <th>0</th>\n",
              "      <td>1</td>\n",
              "      <td>4</td>\n",
              "      <td>1</td>\n",
              "      <td>7</td>\n",
              "    </tr>\n",
              "    <tr>\n",
              "      <th>1</th>\n",
              "      <td>2</td>\n",
              "      <td>5</td>\n",
              "      <td>6</td>\n",
              "      <td>8</td>\n",
              "    </tr>\n",
              "    <tr>\n",
              "      <th>2</th>\n",
              "      <td>3</td>\n",
              "      <td>6</td>\n",
              "      <td>7</td>\n",
              "      <td>9</td>\n",
              "    </tr>\n",
              "  </tbody>\n",
              "</table>\n",
              "</div>"
            ],
            "text/plain": [
              "   A  B  A  D\n",
              "0  1  4  1  7\n",
              "1  2  5  6  8\n",
              "2  3  6  7  9"
            ]
          },
          "metadata": {
            "tags": []
          },
          "execution_count": 114
        }
      ]
    },
    {
      "cell_type": "markdown",
      "metadata": {
        "id": "JtSKNGQbjGlv",
        "colab_type": "text"
      },
      "source": [
        "#####  \n",
        "**Merge-**\n",
        "最主要用在兩個表格的串接，可選擇要串接的key值"
      ]
    },
    {
      "cell_type": "code",
      "metadata": {
        "id": "Qfjb0BL7j3sN",
        "colab_type": "code",
        "colab": {
          "base_uri": "https://localhost:8080/",
          "height": 142
        },
        "outputId": "c92627c9-e3a8-47be-9e97-25a4efbfec25"
      },
      "source": [
        "pd.merge(df1,df2,on='A', how = 'inner')#交集\n",
        "pd.merge(df1,df2,on='A', how = 'outer')#聯集\n",
        "pd.merge(df1,df2,on='A', how = 'left')#以左邊df為準進行合併\n",
        "pd.merge(df1,df2,on='A', how = 'right')#以右邊df為準進行合併\n"
      ],
      "execution_count": null,
      "outputs": [
        {
          "output_type": "execute_result",
          "data": {
            "text/html": [
              "<div>\n",
              "<style scoped>\n",
              "    .dataframe tbody tr th:only-of-type {\n",
              "        vertical-align: middle;\n",
              "    }\n",
              "\n",
              "    .dataframe tbody tr th {\n",
              "        vertical-align: top;\n",
              "    }\n",
              "\n",
              "    .dataframe thead th {\n",
              "        text-align: right;\n",
              "    }\n",
              "</style>\n",
              "<table border=\"1\" class=\"dataframe\">\n",
              "  <thead>\n",
              "    <tr style=\"text-align: right;\">\n",
              "      <th></th>\n",
              "      <th>A</th>\n",
              "      <th>B</th>\n",
              "      <th>D</th>\n",
              "    </tr>\n",
              "  </thead>\n",
              "  <tbody>\n",
              "    <tr>\n",
              "      <th>0</th>\n",
              "      <td>1</td>\n",
              "      <td>4.0</td>\n",
              "      <td>7</td>\n",
              "    </tr>\n",
              "    <tr>\n",
              "      <th>1</th>\n",
              "      <td>6</td>\n",
              "      <td>NaN</td>\n",
              "      <td>8</td>\n",
              "    </tr>\n",
              "    <tr>\n",
              "      <th>2</th>\n",
              "      <td>7</td>\n",
              "      <td>NaN</td>\n",
              "      <td>9</td>\n",
              "    </tr>\n",
              "  </tbody>\n",
              "</table>\n",
              "</div>"
            ],
            "text/plain": [
              "   A    B  D\n",
              "0  1  4.0  7\n",
              "1  6  NaN  8\n",
              "2  7  NaN  9"
            ]
          },
          "metadata": {
            "tags": []
          },
          "execution_count": 118
        }
      ]
    },
    {
      "cell_type": "markdown",
      "metadata": {
        "colab_type": "text",
        "id": "du36Bg2CQfqW"
      },
      "source": [
        "### **作業**\n",
        "\n",
        "#### **HW 2**\n",
        "#####研究員想要處理H0A0以及USGG兩個時間序列資料，但兩個資料檔日期有不一致情形，請協助研究員使用merge將資料做好預處理\n",
        "\n",
        "#### **HW 3**\n",
        "#####研究員想要比較在不同時間中債券指數的組成分中，是否有重複的項目，並想了解價格變動的狀況，請協助研究員找出來\n",
        "\n",
        "\n",
        "\n"
      ]
    },
    {
      "cell_type": "markdown",
      "metadata": {
        "colab_type": "text",
        "id": "2p6D-woAQnLD"
      },
      "source": [
        "# **Python Course for Esun Quant Team Aug 03, 2020**\n",
        "### **Agenda**\n",
        "\n",
        "- Chapter 4 - Data Preprocessing"
      ]
    },
    {
      "cell_type": "markdown",
      "metadata": {
        "colab_type": "text",
        "id": "ar441pi5QnLE"
      },
      "source": [
        "## **Chapter 4 - Data Preprocessing**"
      ]
    },
    {
      "cell_type": "markdown",
      "metadata": {
        "colab_type": "text",
        "id": "QxA7gC76QnLG"
      },
      "source": [
        "### **NA & Missing Values**\n",
        "\n",
        "##### 有時資料欄中會出現NA值情況\n",
        "\n",
        "- 判斷\n",
        "\n",
        "> `df.isnull()`判斷是否有NA\n",
        " \n",
        "> `df.notnull()`判斷沒有NA的列\n",
        "\n",
        "- 處理\n",
        "\n",
        "> `df.dropna()`把含有NA的列/欄刪除\n",
        " \n",
        "> `df.fillna()`把含有NA的列/欄填入值"
      ]
    },
    {
      "cell_type": "code",
      "metadata": {
        "colab_type": "code",
        "id": "kGa8zH__QnLH",
        "colab": {
          "base_uri": "https://localhost:8080/",
          "height": 544
        },
        "outputId": "f1db7083-54a0-4c0f-bd0c-0efbd2135189"
      },
      "source": [
        "import pandas as pd\n",
        "import numpy as np\n",
        "df1 = pd.DataFrame({\"A\":[1,2,np.nan,4],\"B\":[5,6,np.nan,8],\"C\":[2,3,4,5]})\n",
        "print('======')\n",
        "print('原資料')\n",
        "print('======')\n",
        "\n",
        "print(df1)\n",
        "\n",
        "print('================')\n",
        "print('將含有NA的列刪除')\n",
        "print('================')\n",
        "\n",
        "df2 = df1.dropna(axis = 0) #axis = 0為預設，若不輸入亦可\n",
        "print(df2)\n",
        "\n",
        "print('================')\n",
        "print('將含有NA的欄刪除')\n",
        "print('================')\n",
        "\n",
        "df3 = df1.dropna(axis = 1)\n",
        "print(df3)\n",
        "\n",
        "print('========================')\n",
        "print('將含有NA，填入各欄平均值')\n",
        "print('========================')\n",
        "\n",
        "df3 = df1.fillna(df1.mean())\n",
        "print(df3)"
      ],
      "execution_count": null,
      "outputs": [
        {
          "output_type": "stream",
          "text": [
            "======\n",
            "原資料\n",
            "======\n",
            "     A    B  C\n",
            "0  1.0  5.0  2\n",
            "1  2.0  6.0  3\n",
            "2  NaN  NaN  4\n",
            "3  4.0  8.0  5\n",
            "================\n",
            "將含有NA的列刪除\n",
            "================\n",
            "     A    B  C\n",
            "0  1.0  5.0  2\n",
            "1  2.0  6.0  3\n",
            "3  4.0  8.0  5\n",
            "================\n",
            "將含有NA的欄刪除\n",
            "================\n",
            "   C\n",
            "0  2\n",
            "1  3\n",
            "2  4\n",
            "3  5\n",
            "========================\n",
            "將含有NA，填入各欄平均值\n",
            "========================\n",
            "          A         B  C\n",
            "0  1.000000  5.000000  2\n",
            "1  2.000000  6.000000  3\n",
            "2  2.333333  6.333333  4\n",
            "3  4.000000  8.000000  5\n"
          ],
          "name": "stdout"
        }
      ]
    },
    {
      "cell_type": "markdown",
      "metadata": {
        "id": "1KQe_YZCKQnj",
        "colab_type": "text"
      },
      "source": [
        "### **apply**\n",
        "\n",
        "##### apply的功能是將某function套用至指定資料上，好比說我想將DataFrame中的某欄做分類，可以先看以下例子或許比較明白apply的使用方式\n",
        "\n"
      ]
    },
    {
      "cell_type": "code",
      "metadata": {
        "id": "pMYzf2n4K4BW",
        "colab_type": "code",
        "colab": {
          "base_uri": "https://localhost:8080/",
          "height": 204
        },
        "outputId": "988184cf-dff2-457d-fb18-9bea89f8ed33"
      },
      "source": [
        "import pandas as pd\n",
        "import numpy as np\n",
        "df1 = pd.DataFrame({\"Cust_ID\":[1123564,21320463,123134,999999,4564887],\\\n",
        "            \"AUM\":[5000000,98745632,3000000,1456217,3000]})\n",
        "#- 定義函數\n",
        "def type_check(x):\n",
        "  if x>30000000:\n",
        "    return(\"3,000萬以上顧客\")\n",
        "  elif x<10000000:\n",
        "    return('1,000萬以下顧客')\n",
        "  else:\n",
        "    return('1~3,000萬顧客')\n",
        "\n",
        "#- 將DataFrame中的AUM取出，並利用apply應用函式\n",
        "df1[\"分類\"] = df1[\"AUM\"].apply(type_check)\n",
        "df1\n"
      ],
      "execution_count": null,
      "outputs": [
        {
          "output_type": "execute_result",
          "data": {
            "text/html": [
              "<div>\n",
              "<style scoped>\n",
              "    .dataframe tbody tr th:only-of-type {\n",
              "        vertical-align: middle;\n",
              "    }\n",
              "\n",
              "    .dataframe tbody tr th {\n",
              "        vertical-align: top;\n",
              "    }\n",
              "\n",
              "    .dataframe thead th {\n",
              "        text-align: right;\n",
              "    }\n",
              "</style>\n",
              "<table border=\"1\" class=\"dataframe\">\n",
              "  <thead>\n",
              "    <tr style=\"text-align: right;\">\n",
              "      <th></th>\n",
              "      <th>Cust_ID</th>\n",
              "      <th>AUM</th>\n",
              "      <th>分類</th>\n",
              "    </tr>\n",
              "  </thead>\n",
              "  <tbody>\n",
              "    <tr>\n",
              "      <th>0</th>\n",
              "      <td>1123564</td>\n",
              "      <td>5000000</td>\n",
              "      <td>1,000萬以下顧客</td>\n",
              "    </tr>\n",
              "    <tr>\n",
              "      <th>1</th>\n",
              "      <td>21320463</td>\n",
              "      <td>98745632</td>\n",
              "      <td>3,000萬以上顧客</td>\n",
              "    </tr>\n",
              "    <tr>\n",
              "      <th>2</th>\n",
              "      <td>123134</td>\n",
              "      <td>3000000</td>\n",
              "      <td>1,000萬以下顧客</td>\n",
              "    </tr>\n",
              "    <tr>\n",
              "      <th>3</th>\n",
              "      <td>999999</td>\n",
              "      <td>1456217</td>\n",
              "      <td>1,000萬以下顧客</td>\n",
              "    </tr>\n",
              "    <tr>\n",
              "      <th>4</th>\n",
              "      <td>4564887</td>\n",
              "      <td>3000</td>\n",
              "      <td>1,000萬以下顧客</td>\n",
              "    </tr>\n",
              "  </tbody>\n",
              "</table>\n",
              "</div>"
            ],
            "text/plain": [
              "    Cust_ID       AUM          分類\n",
              "0   1123564   5000000  1,000萬以下顧客\n",
              "1  21320463  98745632  3,000萬以上顧客\n",
              "2    123134   3000000  1,000萬以下顧客\n",
              "3    999999   1456217  1,000萬以下顧客\n",
              "4   4564887      3000  1,000萬以下顧客"
            ]
          },
          "metadata": {
            "tags": []
          },
          "execution_count": 8
        }
      ]
    },
    {
      "cell_type": "markdown",
      "metadata": {
        "id": "FnidewupOn4h",
        "colab_type": "text"
      },
      "source": [
        "除了上述方式外，apply也有另一種常用的方法`apply(lambda x: f(x))`\n"
      ]
    },
    {
      "cell_type": "code",
      "metadata": {
        "id": "iGFRMahaPEg7",
        "colab_type": "code",
        "colab": {
          "base_uri": "https://localhost:8080/",
          "height": 119
        },
        "outputId": "78b4802a-4ea9-41d1-80f6-c29910b527f0"
      },
      "source": [
        "# 將AUM同除以10,000\n",
        "df1[\"AUM\"].apply(lambda x : x/10000)\n"
      ],
      "execution_count": null,
      "outputs": [
        {
          "output_type": "execute_result",
          "data": {
            "text/plain": [
              "0     500.0000\n",
              "1    9874.5632\n",
              "2     300.0000\n",
              "3     145.6217\n",
              "4       0.3000\n",
              "Name: AUM, dtype: float64"
            ]
          },
          "metadata": {
            "tags": []
          },
          "execution_count": 9
        }
      ]
    },
    {
      "cell_type": "markdown",
      "metadata": {
        "colab_type": "text",
        "id": "M-fBvjKlQnLg"
      },
      "source": [
        "### **作業**"
      ]
    },
    {
      "cell_type": "markdown",
      "metadata": {
        "id": "Wq-VaGT04cU4",
        "colab_type": "text"
      },
      "source": [
        "# **Python Course for Esun Quant Team Aug 03, 2020**\n",
        "### **Agenda**\n",
        "\n",
        "- Chapter 5 - 資料結構介紹"
      ]
    },
    {
      "cell_type": "markdown",
      "metadata": {
        "colab_type": "text",
        "id": "Fo1D8u2B6jLu"
      },
      "source": [
        "## **Chapter 5 - 資料結構介紹**"
      ]
    },
    {
      "cell_type": "markdown",
      "metadata": {
        "colab_type": "text",
        "id": "FWl7kmx56jLx"
      },
      "source": [
        "### **Overfitting**\n",
        "\n",
        "##### 做資料分析時（特別是ML），時常會不小心產生Overfitting狀況，模型會為了要增加他的預測能力，過度配適誤差項，以下圖舉例\n",
        "\n",
        "\n",
        "e.g.\n",
        "\n",
        "想要找一條線(模型)區隔出O以及X,\n",
        "\n",
        "**[左一]**模型太過簡單(Underfitting)\n",
        "\n",
        "**[左三]**模型太過複雜(Overfitting)\n",
        "  \n",
        "Overfitting會造成模型在訓練時表現很好,但是預測能力很差\n"
      ]
    },
    {
      "cell_type": "markdown",
      "metadata": {
        "id": "g3p-vZnx48GU",
        "colab_type": "text"
      },
      "source": [
        "![Overfitting](https://github.com/x87170/ES/blob/master/1_UCd6KrmBxpzUpWt3bnoKEA.png?raw=true)"
      ]
    },
    {
      "cell_type": "markdown",
      "metadata": {
        "id": "BpdSiMw96XYE",
        "colab_type": "text"
      },
      "source": [
        "### **Train-Test Split**\n",
        "\n",
        "##### 而要如何處理Overfitting問題呢?\n",
        "將訓練資料以及測試資料分開,以測試資料的預測正確程度,來判斷模型優劣才是正確的!\n",
        "\n"
      ]
    }
  ]
}